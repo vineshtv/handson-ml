{
 "cells": [
  {
   "cell_type": "code",
   "execution_count": 1,
   "metadata": {},
   "outputs": [],
   "source": [
    "# To support both python 2 and python 3\n",
    "from __future__ import division, print_function, unicode_literals\n",
    "\n",
    "# Common imports\n",
    "import numpy as np\n",
    "import os\n",
    "\n",
    "# to make this notebook's output stable across runs\n",
    "np.random.seed(42)\n",
    "\n",
    "# To plot pretty figures\n",
    "%matplotlib inline\n",
    "import matplotlib\n",
    "import matplotlib.pyplot as plt\n",
    "plt.rcParams['axes.labelsize'] = 14\n",
    "plt.rcParams['xtick.labelsize'] = 12\n",
    "plt.rcParams['ytick.labelsize'] = 12\n",
    "\n",
    "# Where to save the figures\n",
    "PROJECT_ROOT_DIR = \".\"\n",
    "CHAPTER_ID = \"training_linear_models\"\n",
    "\n",
    "def save_fig(fig_id, tight_layout=True):\n",
    "    path = os.path.join(PROJECT_ROOT_DIR, \"images\", CHAPTER_ID, fig_id + \".png\")\n",
    "    print(\"Saving figure\", fig_id)\n",
    "    if tight_layout:\n",
    "        plt.tight_layout()\n",
    "    plt.savefig(path, format='png', dpi=300)"
   ]
  },
  {
   "cell_type": "markdown",
   "metadata": {},
   "source": [
    "## Normal Equation"
   ]
  },
  {
   "cell_type": "code",
   "execution_count": 2,
   "metadata": {},
   "outputs": [],
   "source": [
    "import numpy as np\n",
    "\n",
    "X = 2 * np.random.rand(100, 1)\n",
    "y = 4 + 3 * X + np.random.randn(100, 1)"
   ]
  },
  {
   "cell_type": "code",
   "execution_count": 3,
   "metadata": {},
   "outputs": [
    {
     "data": {
      "image/png": "[encoded data removed]",
      "text/plain": [
       "<matplotlib.figure.Figure at 0x10cd32710>"
      ]
     },
     "metadata": {},
     "output_type": "display_data"
    }
   ],
   "source": [
    "plt.plot(X, y, \"b.\")\n",
    "plt.xlabel(\"$x_1$\", fontsize=18)\n",
    "plt.ylabel(\"$y$\", rotation=0, fontsize=18)\n",
    "plt.axis([0, 2, 0, 15])\n",
    "plt.show()"
   ]
  },
  {
   "cell_type": "code",
   "execution_count": 4,
   "metadata": {},
   "outputs": [
    {
     "data": {
      "text/plain": [
       "array([[ 0.74908024],\n",
       "       [ 1.90142861],\n",
       "       [ 1.46398788],\n",
       "       [ 1.19731697],\n",
       "       [ 0.31203728],\n",
       "       [ 0.31198904],\n",
       "       [ 0.11616722],\n",
       "       [ 1.73235229],\n",
       "       [ 1.20223002],\n",
       "       [ 1.41614516],\n",
       "       [ 0.04116899],\n",
       "       [ 1.9398197 ],\n",
       "       [ 1.66488528],\n",
       "       [ 0.42467822],\n",
       "       [ 0.36364993],\n",
       "       [ 0.36680902],\n",
       "       [ 0.60848449],\n",
       "       [ 1.04951286],\n",
       "       [ 0.86389004],\n",
       "       [ 0.58245828],\n",
       "       [ 1.22370579],\n",
       "       [ 0.27898772],\n",
       "       [ 0.5842893 ],\n",
       "       [ 0.73272369],\n",
       "       [ 0.91213997],\n",
       "       [ 1.57035192],\n",
       "       [ 0.39934756],\n",
       "       [ 1.02846888],\n",
       "       [ 1.18482914],\n",
       "       [ 0.09290083],\n",
       "       [ 1.2150897 ],\n",
       "       [ 0.34104825],\n",
       "       [ 0.13010319],\n",
       "       [ 1.89777107],\n",
       "       [ 1.93126407],\n",
       "       [ 1.6167947 ],\n",
       "       [ 0.60922754],\n",
       "       [ 0.19534423],\n",
       "       [ 1.36846605],\n",
       "       [ 0.88030499],\n",
       "       [ 0.24407647],\n",
       "       [ 0.99035382],\n",
       "       [ 0.06877704],\n",
       "       [ 1.8186408 ],\n",
       "       [ 0.51755996],\n",
       "       [ 1.32504457],\n",
       "       [ 0.62342215],\n",
       "       [ 1.04013604],\n",
       "       [ 1.09342056],\n",
       "       [ 0.36970891],\n",
       "       [ 1.93916926],\n",
       "       [ 1.55026565],\n",
       "       [ 1.87899788],\n",
       "       [ 1.7896547 ],\n",
       "       [ 1.19579996],\n",
       "       [ 1.84374847],\n",
       "       [ 0.176985  ],\n",
       "       [ 0.39196572],\n",
       "       [ 0.09045458],\n",
       "       [ 0.65066066],\n",
       "       [ 0.77735458],\n",
       "       [ 0.54269806],\n",
       "       [ 1.65747502],\n",
       "       [ 0.71350665],\n",
       "       [ 0.56186902],\n",
       "       [ 1.08539217],\n",
       "       [ 0.28184845],\n",
       "       [ 1.60439396],\n",
       "       [ 0.14910129],\n",
       "       [ 1.97377387],\n",
       "       [ 1.54448954],\n",
       "       [ 0.39743136],\n",
       "       [ 0.01104423],\n",
       "       [ 1.63092286],\n",
       "       [ 1.41371469],\n",
       "       [ 1.45801434],\n",
       "       [ 1.54254069],\n",
       "       [ 0.1480893 ],\n",
       "       [ 0.71693146],\n",
       "       [ 0.23173812],\n",
       "       [ 1.72620685],\n",
       "       [ 1.24659625],\n",
       "       [ 0.66179605],\n",
       "       [ 0.1271167 ],\n",
       "       [ 0.62196464],\n",
       "       [ 0.65036664],\n",
       "       [ 1.45921236],\n",
       "       [ 1.27511494],\n",
       "       [ 1.77442549],\n",
       "       [ 0.94442985],\n",
       "       [ 0.23918849],\n",
       "       [ 1.42648957],\n",
       "       [ 1.5215701 ],\n",
       "       [ 1.1225544 ],\n",
       "       [ 1.54193436],\n",
       "       [ 0.98759119],\n",
       "       [ 1.04546566],\n",
       "       [ 0.85508204],\n",
       "       [ 0.05083825],\n",
       "       [ 0.21578285]])"
      ]
     },
     "execution_count": 4,
     "metadata": {},
     "output_type": "execute_result"
    }
   ],
   "source": [
    "X"
   ]
  },
  {
   "cell_type": "code",
   "execution_count": 5,
   "metadata": {},
   "outputs": [
    {
     "data": {
      "text/plain": [
       "array([[ 1.        ,  0.74908024],\n",
       "       [ 1.        ,  1.90142861],\n",
       "       [ 1.        ,  1.46398788],\n",
       "       [ 1.        ,  1.19731697],\n",
       "       [ 1.        ,  0.31203728],\n",
       "       [ 1.        ,  0.31198904],\n",
       "       [ 1.        ,  0.11616722],\n",
       "       [ 1.        ,  1.73235229],\n",
       "       [ 1.        ,  1.20223002],\n",
       "       [ 1.        ,  1.41614516],\n",
       "       [ 1.        ,  0.04116899],\n",
       "       [ 1.        ,  1.9398197 ],\n",
       "       [ 1.        ,  1.66488528],\n",
       "       [ 1.        ,  0.42467822],\n",
       "       [ 1.        ,  0.36364993],\n",
       "       [ 1.        ,  0.36680902],\n",
       "       [ 1.        ,  0.60848449],\n",
       "       [ 1.        ,  1.04951286],\n",
       "       [ 1.        ,  0.86389004],\n",
       "       [ 1.        ,  0.58245828],\n",
       "       [ 1.        ,  1.22370579],\n",
       "       [ 1.        ,  0.27898772],\n",
       "       [ 1.        ,  0.5842893 ],\n",
       "       [ 1.        ,  0.73272369],\n",
       "       [ 1.        ,  0.91213997],\n",
       "       [ 1.        ,  1.57035192],\n",
       "       [ 1.        ,  0.39934756],\n",
       "       [ 1.        ,  1.02846888],\n",
       "       [ 1.        ,  1.18482914],\n",
       "       [ 1.        ,  0.09290083],\n",
       "       [ 1.        ,  1.2150897 ],\n",
       "       [ 1.        ,  0.34104825],\n",
       "       [ 1.        ,  0.13010319],\n",
       "       [ 1.        ,  1.89777107],\n",
       "       [ 1.        ,  1.93126407],\n",
       "       [ 1.        ,  1.6167947 ],\n",
       "       [ 1.        ,  0.60922754],\n",
       "       [ 1.        ,  0.19534423],\n",
       "       [ 1.        ,  1.36846605],\n",
       "       [ 1.        ,  0.88030499],\n",
       "       [ 1.        ,  0.24407647],\n",
       "       [ 1.        ,  0.99035382],\n",
       "       [ 1.        ,  0.06877704],\n",
       "       [ 1.        ,  1.8186408 ],\n",
       "       [ 1.        ,  0.51755996],\n",
       "       [ 1.        ,  1.32504457],\n",
       "       [ 1.        ,  0.62342215],\n",
       "       [ 1.        ,  1.04013604],\n",
       "       [ 1.        ,  1.09342056],\n",
       "       [ 1.        ,  0.36970891],\n",
       "       [ 1.        ,  1.93916926],\n",
       "       [ 1.        ,  1.55026565],\n",
       "       [ 1.        ,  1.87899788],\n",
       "       [ 1.        ,  1.7896547 ],\n",
       "       [ 1.        ,  1.19579996],\n",
       "       [ 1.        ,  1.84374847],\n",
       "       [ 1.        ,  0.176985  ],\n",
       "       [ 1.        ,  0.39196572],\n",
       "       [ 1.        ,  0.09045458],\n",
       "       [ 1.        ,  0.65066066],\n",
       "       [ 1.        ,  0.77735458],\n",
       "       [ 1.        ,  0.54269806],\n",
       "       [ 1.        ,  1.65747502],\n",
       "       [ 1.        ,  0.71350665],\n",
       "       [ 1.        ,  0.56186902],\n",
       "       [ 1.        ,  1.08539217],\n",
       "       [ 1.        ,  0.28184845],\n",
       "       [ 1.        ,  1.60439396],\n",
       "       [ 1.        ,  0.14910129],\n",
       "       [ 1.        ,  1.97377387],\n",
       "       [ 1.        ,  1.54448954],\n",
       "       [ 1.        ,  0.39743136],\n",
       "       [ 1.        ,  0.01104423],\n",
       "       [ 1.        ,  1.63092286],\n",
       "       [ 1.        ,  1.41371469],\n",
       "       [ 1.        ,  1.45801434],\n",
       "       [ 1.        ,  1.54254069],\n",
       "       [ 1.        ,  0.1480893 ],\n",
       "       [ 1.        ,  0.71693146],\n",
       "       [ 1.        ,  0.23173812],\n",
       "       [ 1.        ,  1.72620685],\n",
       "       [ 1.        ,  1.24659625],\n",
       "       [ 1.        ,  0.66179605],\n",
       "       [ 1.        ,  0.1271167 ],\n",
       "       [ 1.        ,  0.62196464],\n",
       "       [ 1.        ,  0.65036664],\n",
       "       [ 1.        ,  1.45921236],\n",
       "       [ 1.        ,  1.27511494],\n",
       "       [ 1.        ,  1.77442549],\n",
       "       [ 1.        ,  0.94442985],\n",
       "       [ 1.        ,  0.23918849],\n",
       "       [ 1.        ,  1.42648957],\n",
       "       [ 1.        ,  1.5215701 ],\n",
       "       [ 1.        ,  1.1225544 ],\n",
       "       [ 1.        ,  1.54193436],\n",
       "       [ 1.        ,  0.98759119],\n",
       "       [ 1.        ,  1.04546566],\n",
       "       [ 1.        ,  0.85508204],\n",
       "       [ 1.        ,  0.05083825],\n",
       "       [ 1.        ,  0.21578285]])"
      ]
     },
     "execution_count": 5,
     "metadata": {},
     "output_type": "execute_result"
    }
   ],
   "source": [
    "X_b = np.c_[np.ones((100, 1)), X] # Add x0 = 1 for each instance\n",
    "X_b"
   ]
  },
  {
   "cell_type": "code",
   "execution_count": 6,
   "metadata": {},
   "outputs": [
    {
     "data": {
      "text/plain": [
       "array([[ 4.21509616],\n",
       "       [ 2.77011339]])"
      ]
     },
     "execution_count": 6,
     "metadata": {},
     "output_type": "execute_result"
    }
   ],
   "source": [
    "# Theta_best = inv(XTranspose . X) . XTranspose . y\n",
    "theta_best = np.linalg.inv(X_b.T.dot(X_b)).dot(X_b.T).dot(y)\n",
    "\n",
    "theta_best"
   ]
  },
  {
   "cell_type": "code",
   "execution_count": 7,
   "metadata": {},
   "outputs": [
    {
     "data": {
      "text/plain": [
       "array([[ 4.21509616],\n",
       "       [ 9.75532293]])"
      ]
     },
     "execution_count": 7,
     "metadata": {},
     "output_type": "execute_result"
    }
   ],
   "source": [
    "X_new = np.array([[0], [2]])\n",
    "X_new_b = np.c_[np.ones((2, 1)), X_new]\n",
    "y_predict = X_new_b.dot(theta_best)\n",
    "y_predict"
   ]
  },
  {
   "cell_type": "code",
   "execution_count": 8,
   "metadata": {},
   "outputs": [
    {
     "data": {
      "image/png": "[encoded data removed]",
      "text/plain": [
       "<matplotlib.figure.Figure at 0x10e532780>"
      ]
     },
     "metadata": {},
     "output_type": "display_data"
    }
   ],
   "source": [
    "plt.plot(X_new, y_predict, \"r-\")\n",
    "plt.plot(X, y, \"b.\")\n",
    "plt.axis([0, 2, 0, 15])\n",
    "plt.show()"
   ]
  },
  {
   "cell_type": "markdown",
   "metadata": {},
   "source": [
    "Using Scikit-Learn"
   ]
  },
  {
   "cell_type": "code",
   "execution_count": 9,
   "metadata": {},
   "outputs": [
    {
     "name": "stderr",
     "output_type": "stream",
     "text": [
      "/usr/local/lib/python3.6/site-packages/scipy/linalg/basic.py:1226: RuntimeWarning: internal gelsd driver lwork query error, required iwork dimension not returned. This is likely the result of LAPACK bug 0038, fixed in LAPACK 3.2.2 (released July 21, 2010). Falling back to 'gelss' driver.\n",
      "  warnings.warn(mesg, RuntimeWarning)\n"
     ]
    },
    {
     "data": {
      "text/plain": [
       "(array([ 4.21509616]), array([[ 2.77011339]]))"
      ]
     },
     "execution_count": 9,
     "metadata": {},
     "output_type": "execute_result"
    }
   ],
   "source": [
    "from sklearn.linear_model import LinearRegression\n",
    "lin_reg = LinearRegression()\n",
    "lin_reg.fit(X,y)\n",
    "lin_reg.intercept_, lin_reg.coef_"
   ]
  },
  {
   "cell_type": "code",
   "execution_count": 10,
   "metadata": {},
   "outputs": [
    {
     "data": {
      "text/plain": [
       "array([[ 4.21509616],\n",
       "       [ 9.75532293]])"
      ]
     },
     "execution_count": 10,
     "metadata": {},
     "output_type": "execute_result"
    }
   ],
   "source": [
    "lin_reg.predict(X_new)"
   ]
  },
  {
   "cell_type": "markdown",
   "metadata": {},
   "source": [
    "## Gradient Descent"
   ]
  },
  {
   "cell_type": "markdown",
   "metadata": {},
   "source": [
    "### Batch Gradient Descent"
   ]
  },
  {
   "cell_type": "code",
   "execution_count": 11,
   "metadata": {},
   "outputs": [
    {
     "data": {
      "text/plain": [
       "array([[ 4.21509616],\n",
       "       [ 2.77011339]])"
      ]
     },
     "execution_count": 11,
     "metadata": {},
     "output_type": "execute_result"
    }
   ],
   "source": [
    "eta = 0.1 #learning rate\n",
    "n_iterations = 1000\n",
    "m = 100\n",
    "\n",
    "theta = np.random.randn(2, 1) # random initialization\n",
    "\n",
    "for iterations in range(n_iterations):\n",
    "    gradients = 2/m * X_b.T.dot(X_b.dot(theta) - y)\n",
    "    theta = theta - eta * gradients\n",
    "    \n",
    "theta"
   ]
  },
  {
   "cell_type": "code",
   "execution_count": 12,
   "metadata": {},
   "outputs": [
    {
     "data": {
      "text/plain": [
       "array([[ 4.21509616],\n",
       "       [ 9.75532293]])"
      ]
     },
     "execution_count": 12,
     "metadata": {},
     "output_type": "execute_result"
    }
   ],
   "source": [
    "X_new_b.dot(theta)"
   ]
  },
  {
   "cell_type": "code",
   "execution_count": 13,
   "metadata": {},
   "outputs": [
    {
     "data": {
      "image/png": "[encoded data removed]",
      "text/plain": [
       "<matplotlib.figure.Figure at 0x110cbe630>"
      ]
     },
     "metadata": {},
     "output_type": "display_data"
    }
   ],
   "source": [
    "\n",
    "theta_path_bgd = []\n",
    "\n",
    "def plot_gradient_descent(theta, eta, theta_path=None):\n",
    "    m = len(X_b)\n",
    "    plt.plot(X, y, \"b.\")\n",
    "    n_iterations = 1000\n",
    "    for iteration in range(n_iterations):\n",
    "        if iteration < 10:\n",
    "            y_predict = X_new_b.dot(theta)\n",
    "            style = \"b-\" if iteration > 0 else \"r--\"\n",
    "            plt.plot(X_new, y_predict, style)\n",
    "        gradients = 2/m * X_b.T.dot(X_b.dot(theta) - y)\n",
    "        theta = theta - eta * gradients\n",
    "        if theta_path is not None:\n",
    "            theta_path.append(theta)\n",
    "    plt.xlabel(\"$x_1$\", fontsize=18)\n",
    "    plt.axis([0, 2, 0, 15])\n",
    "    plt.title(r\"$\\eta = {}$\".format(eta), fontsize=16)\n",
    "\n",
    "np.random.seed(42)\n",
    "theta = np.random.randn(2,1)  # random initialization\n",
    "\n",
    "plt.figure(figsize=(10,4))\n",
    "plt.subplot(131); plot_gradient_descent(theta, eta=0.02)\n",
    "plt.ylabel(\"$y$\", rotation=0, fontsize=18)\n",
    "plt.subplot(132); plot_gradient_descent(theta, eta=0.1, theta_path=theta_path_bgd)\n",
    "plt.subplot(133); plot_gradient_descent(theta, eta=0.5)\n",
    "\n",
    "plt.show()"
   ]
  },
  {
   "cell_type": "markdown",
   "metadata": {},
   "source": [
    "### Stochastic Gradient Descent"
   ]
  },
  {
   "cell_type": "code",
   "execution_count": 14,
   "metadata": {},
   "outputs": [],
   "source": [
    "theta_path_sgd = []\n",
    "m = len(X_b)\n",
    "np.random.seed(42)"
   ]
  },
  {
   "cell_type": "code",
   "execution_count": 15,
   "metadata": {},
   "outputs": [
    {
     "data": {
      "image/png": "[encoded data removed]",
      "text/plain": [
       "<matplotlib.figure.Figure at 0x110e86e80>"
      ]
     },
     "metadata": {},
     "output_type": "display_data"
    }
   ],
   "source": [
    "n_epochs = 50\n",
    "t0, t1 = 5, 50 #Learning schedule hyperparameters\n",
    "\n",
    "def learning_schedule(t):\n",
    "    return t0/(t + t1)\n",
    "\n",
    "theta = np.random.randn(2, 1) #Random initialization\n",
    "\n",
    "for epoch in range(n_epochs):\n",
    "    for i in range(m):\n",
    "        if epoch == 0 and i < 20:                    \n",
    "            y_predict = X_new_b.dot(theta)           \n",
    "            style = \"b-\" if i > 0 else \"r--\"         \n",
    "            plt.plot(X_new, y_predict, style)        \n",
    "        random_index = np.random.randint(m)\n",
    "        xi = X_b[random_index:random_index+1]\n",
    "        yi = y[random_index:random_index+1]\n",
    "        gradients = 2 * xi.T.dot(xi.dot(theta) - yi)\n",
    "        eta = learning_schedule(epoch * m + i)\n",
    "        theta = theta - eta * gradients\n",
    "        theta_path_sgd.append(theta)                \n",
    "\n",
    "plt.plot(X, y, \"b.\")                                 \n",
    "plt.xlabel(\"$x_1$\", fontsize=18)                     \n",
    "plt.ylabel(\"$y$\", rotation=0, fontsize=18)           \n",
    "plt.axis([0, 2, 0, 15])                              \n",
    "plt.show()                                      "
   ]
  },
  {
   "cell_type": "code",
   "execution_count": 16,
   "metadata": {},
   "outputs": [
    {
     "data": {
      "text/plain": [
       "array([[ 4.21076011],\n",
       "       [ 2.74856079]])"
      ]
     },
     "execution_count": 16,
     "metadata": {},
     "output_type": "execute_result"
    }
   ],
   "source": [
    "theta"
   ]
  },
  {
   "cell_type": "code",
   "execution_count": 17,
   "metadata": {},
   "outputs": [
    {
     "name": "stderr",
     "output_type": "stream",
     "text": [
      "/usr/local/lib/python3.6/site-packages/sklearn/linear_model/stochastic_gradient.py:117: DeprecationWarning: n_iter parameter is deprecated in 0.19 and will be removed in 0.21. Use max_iter and tol instead.\n",
      "  DeprecationWarning)\n"
     ]
    },
    {
     "data": {
      "text/plain": [
       "SGDRegressor(alpha=0.0001, average=False, epsilon=0.1, eta0=0.1,\n",
       "       fit_intercept=True, l1_ratio=0.15, learning_rate='invscaling',\n",
       "       loss='squared_loss', max_iter=None, n_iter=50, penalty=None,\n",
       "       power_t=0.25, random_state=42, shuffle=True, tol=None, verbose=0,\n",
       "       warm_start=False)"
      ]
     },
     "execution_count": 17,
     "metadata": {},
     "output_type": "execute_result"
    }
   ],
   "source": [
    "from sklearn.linear_model import SGDRegressor\n",
    "\n",
    "sgd_reg = SGDRegressor(n_iter=50, penalty=None, eta0=0.1, random_state=42)\n",
    "sgd_reg.fit(X, y.ravel())"
   ]
  },
  {
   "cell_type": "code",
   "execution_count": 18,
   "metadata": {},
   "outputs": [
    {
     "data": {
      "text/plain": [
       "(array([ 4.16782089]), array([ 2.72603052]))"
      ]
     },
     "execution_count": 18,
     "metadata": {},
     "output_type": "execute_result"
    }
   ],
   "source": [
    "sgd_reg.intercept_, sgd_reg.coef_"
   ]
  },
  {
   "cell_type": "markdown",
   "metadata": {},
   "source": [
    "## Polynomial Regression"
   ]
  },
  {
   "cell_type": "code",
   "execution_count": 19,
   "metadata": {},
   "outputs": [],
   "source": [
    "import numpy as np\n",
    "import numpy.random as rnd\n",
    "\n",
    "np.random.seed(42)"
   ]
  },
  {
   "cell_type": "code",
   "execution_count": 20,
   "metadata": {},
   "outputs": [],
   "source": [
    "m = 100\n",
    "X = 6 * np.random.rand(m, 1) - 3\n",
    "y = 0.5 * X**2 + X + 2 + np.random.randn(m, 1)"
   ]
  },
  {
   "cell_type": "code",
   "execution_count": 21,
   "metadata": {},
   "outputs": [
    {
     "data": {
      "image/png": "[encoded data removed]",
      "text/plain": [
       "<matplotlib.figure.Figure at 0x110e1bac8>"
      ]
     },
     "metadata": {},
     "output_type": "display_data"
    }
   ],
   "source": [
    "plt.plot(X, y, \"b.\")\n",
    "plt.xlabel(\"$x_1$\", fontsize=18)\n",
    "plt.ylabel(\"$y$\", rotation=0,fontsize=18)\n",
    "plt.axis([-3, 3, 0, 10])\n",
    "plt.show()"
   ]
  },
  {
   "cell_type": "code",
   "execution_count": 22,
   "metadata": {},
   "outputs": [
    {
     "data": {
      "text/plain": [
       "array([-0.75275929])"
      ]
     },
     "execution_count": 22,
     "metadata": {},
     "output_type": "execute_result"
    }
   ],
   "source": [
    "from sklearn.preprocessing import PolynomialFeatures\n",
    "poly_features = PolynomialFeatures(degree=2, include_bias=False)\n",
    "X_poly = poly_features.fit_transform(X)\n",
    "X[0]"
   ]
  },
  {
   "cell_type": "code",
   "execution_count": 23,
   "metadata": {},
   "outputs": [
    {
     "data": {
      "text/plain": [
       "array([-0.75275929,  0.56664654])"
      ]
     },
     "execution_count": 23,
     "metadata": {},
     "output_type": "execute_result"
    }
   ],
   "source": [
    "X_poly[0]"
   ]
  },
  {
   "cell_type": "code",
   "execution_count": 24,
   "metadata": {},
   "outputs": [
    {
     "data": {
      "text/plain": [
       "(array([ 1.78134581]), array([[ 0.93366893,  0.56456263]]))"
      ]
     },
     "execution_count": 24,
     "metadata": {},
     "output_type": "execute_result"
    }
   ],
   "source": [
    "lin_reg = LinearRegression()\n",
    "lin_reg.fit(X_poly, y)\n",
    "lin_reg.intercept_, lin_reg.coef_"
   ]
  },
  {
   "cell_type": "code",
   "execution_count": 25,
   "metadata": {},
   "outputs": [
    {
     "data": {
      "image/png": "[encoded data removed]",
      "text/plain": [
       "<matplotlib.figure.Figure at 0x10e5989b0>"
      ]
     },
     "metadata": {},
     "output_type": "display_data"
    }
   ],
   "source": [
    "X_new=np.linspace(-3, 3, 100).reshape(100, 1)\n",
    "X_new_poly = poly_features.transform(X_new)\n",
    "y_new = lin_reg.predict(X_new_poly)\n",
    "plt.plot(X, y, \"b.\")\n",
    "plt.plot(X_new, y_new, \"r-\", linewidth=2, label=\"Predictions\")\n",
    "plt.xlabel(\"$x_1$\", fontsize=18)\n",
    "plt.ylabel(\"$y$\", rotation=0, fontsize=18)\n",
    "plt.legend(loc=\"upper left\", fontsize=14)\n",
    "plt.axis([-3, 3, 0, 10])\n",
    "plt.show()"
   ]
  },
  {
   "cell_type": "code",
   "execution_count": null,
   "metadata": {},
   "outputs": [],
   "source": []
  }
 ],
 "metadata": {
  "kernelspec": {
   "display_name": "Python 3",
   "language": "python",
   "name": "python3"
  },
  "language_info": {
   "codemirror_mode": {
    "name": "ipython",
    "version": 3
   },
   "file_extension": ".py",
   "mimetype": "text/x-python",
   "name": "python",
   "nbconvert_exporter": "python",
   "pygments_lexer": "ipython3",
   "version": "3.6.3"
  }
 },
 "nbformat": 4,
 "nbformat_minor": 2
}
